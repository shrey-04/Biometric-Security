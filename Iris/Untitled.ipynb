{
 "cells": [
  {
   "cell_type": "code",
   "execution_count": 4,
   "id": "6e06c871-7545-47a6-b357-05c3c8482b69",
   "metadata": {},
   "outputs": [
    {
     "name": "stderr",
     "output_type": "stream",
     "text": [
      "Loading Scores....: 100%|███████████████████████████████████████████████████████████████████████████████████████████████████████████████████| 1426748/1426748 [00:07<00:00, 203027.33it/s]\n",
      "Calculating Intra and inter: 100%|██████████████████████████████████████████████████████████████████████████████████████████████████████████| 1426748/1426748 [00:03<00:00, 445728.86it/s]\n"
     ]
    },
    {
     "data": {
      "image/png": "[encoded data removed]",
      "text/plain": [
       "<Figure size 640x480 with 1 Axes>"
      ]
     },
     "metadata": {},
     "output_type": "display_data"
    }
   ],
   "source": [
    "all = open('all.txt', 'r')\n",
    "\n",
    "\n",
    "class Comparison:\n",
    "    def __init__(self, user1, image1, user2, image2, score):\n",
    "        self.user1 = user1;\n",
    "        self.user2 = user2;\n",
    "        self.image1 = image1;\n",
    "        self.image2 = image2;\n",
    "        self.score = score\n",
    "\n",
    "\n",
    "def getExtract(line):\n",
    "    a, b, score, d = line.strip().split(\" \")\n",
    "    _, __, u1, i1 = a.split(\"_\")\n",
    "    _, __, u2, i2 = b.split(\"_\")\n",
    "    return Comparison(int(u1), int(i1.split('.')[0]), int(u2), int(i2.split('.')[0]), float(score))\n",
    "\n",
    "\n",
    "\n",
    "import tqdm\n",
    "\n",
    "arranged = list(getExtract(x) for x in tqdm.tqdm(all.readlines(),total=1426748,desc=\"Loading Scores....\"))\n",
    "\n",
    "intra={}\n",
    "inter={}\n",
    "minScore = float('inf')\n",
    "maxScore = float('-inf')\n",
    "for comparison in tqdm.tqdm(arranged,desc= \"Calculating Intra and inter\"):\n",
    "    if not (0.2<=comparison.score<=0.8):\n",
    "        continue\n",
    "    if comparison.score:\n",
    "        minScore = min(minScore,comparison.score)\n",
    "    maxScore = max(maxScore,comparison.score)\n",
    "    if comparison.user1==comparison.user2:\n",
    "        if comparison.user1 not in intra:\n",
    "            intra[comparison.user1] = []\n",
    "        intra[comparison.user1].append(comparison.score)\n",
    "    else:\n",
    "        user1 = comparison.user1\n",
    "        user2 = comparison.user2\n",
    "        score = comparison.score\n",
    "        if user1 not in inter:\n",
    "            inter[user1] = {}\n",
    "        if user2 not in inter:\n",
    "            inter[user2] = {}\n",
    "        if user2 not in inter[user1]:\n",
    "            inter[user1][user2] = []\n",
    "        if user1 not in inter[user2]:\n",
    "            inter[user2][user1] = []\n",
    "        inter[user1][user2].append(score)\n",
    "        inter[user2][user1].append(score)\n",
    "\n",
    "users = list(range(0,60))\n",
    "p = (maxScore - minScore)/(len(users) - 1)\n",
    "\n",
    "FARs = []\n",
    "FRRs = []\n",
    "for i,user in enumerate(users):\n",
    "  genuine = intra[user]\n",
    "  imposter = list(y for x in inter[user].values() for y in x )\n",
    "  threshold = minScore + i * p\n",
    "  frr = 0\n",
    "  for score in genuine:\n",
    "    if score < threshold:\n",
    "      frr += 1\n",
    "  frr = frr / len(genuine)\n",
    "\n",
    "  far = 0\n",
    "  for score in genuine:\n",
    "    if score >= threshold:\n",
    "      far += 1\n",
    "  far = far / len(imposter)\n",
    "\n",
    "  FARs.append(far)\n",
    "  FRRs.append(frr)\n",
    "\n",
    "\n",
    "import matplotlib.pyplot as plt\n",
    "\n",
    "plt.plot(FARs,FRRs)\n",
    "plt.title(\"PLOT\")\n",
    "plt.axis([0,1,0,1])\n",
    "plt.show()"
   ]
  },
  {
   "cell_type": "code",
   "execution_count": null,
   "id": "900fac26-1f54-408a-9e2a-096e2b960878",
   "metadata": {},
   "outputs": [],
   "source": []
  }
 ],
 "metadata": {
  "kernelspec": {
   "display_name": "Python 3 (ipykernel)",
   "language": "python",
   "name": "python3"
  },
  "language_info": {
   "codemirror_mode": {
    "name": "ipython",
    "version": 3
   },
   "file_extension": ".py",
   "mimetype": "text/x-python",
   "name": "python",
   "nbconvert_exporter": "python",
   "pygments_lexer": "ipython3",
   "version": "3.8.10"
  }
 },
 "nbformat": 4,
 "nbformat_minor": 5
}
